{
 "cells": [
  {
   "cell_type": "markdown",
   "metadata": {},
   "source": [
    "# Outlier Detection Overview"
   ]
  },
  {
   "cell_type": "markdown",
   "metadata": {},
   "source": [
    "In a similar fashion as when we create an anomaly detector, we can create an outlier detector. \n",
    "The outlier detector differs from the anomaly detector since a fraction of outliers (contamination) is known beforehand and the output is a prediction of whether a data point is an outlier or not.\n",
    "Consequently, the outlier detector can dynamically select a threshold for deciding when a data point is an outlier or inlier from the training data. \n",
    "Below, we use the same data set as in previous section but we now know that there is one anomalous data point - an outlier - and five inliers in the data set."
   ]
  },
  {
   "cell_type": "code",
   "execution_count": 4,
   "metadata": {
    "collapsed": false
   },
   "outputs": [
    {
     "data": {
      "text/plain": [
       "array([ 1, -1,  1,  1,  1,  1])"
      ]
     },
     "execution_count": 4,
     "metadata": {},
     "output_type": "execute_result"
    }
   ],
   "source": [
    "import numpy as np\n",
    "import pyisc\n",
    "\n",
    "# Data with an outlier in element 1:\n",
    "X = [[20, 4], [1200, 130], [12, 8], [27, 8], [-9, 13], [2, -6]] \n",
    "\n",
    "# Create an outlier detector with the known fraction of outliers: 1 of 6:\n",
    "outlier_detector = pyisc.SklearnOutlierDetector(\n",
    "    contamination=1.0/len(X),\n",
    "    component_models=pyisc.P_Gaussian([0,1])\n",
    ")\n",
    "\n",
    "# The outlier detector is trained\n",
    "outlier_detector.fit(np.array(X)) \n",
    "\n",
    "# Then, the data is classified into being outliers or not:\n",
    "outlier_detector.predict(np.array(X))\n",
    "\n",
    "# The result is classification of outliers (-1) and inliers (1):\n",
    "#array([ 1,  -1,  1,  1,  1, 1,  1])"
   ]
  },
  {
   "cell_type": "markdown",
   "metadata": {},
   "source": [
    "Thus, we are able to detect the second element as an outlier. The outlier detector follows the API used in scikit-learn for outlier detection with known contamination (see http://scikit-learn.org/stable/modules/outlier_detection.html) "
   ]
  },
  {
   "cell_type": "code",
   "execution_count": null,
   "metadata": {
    "collapsed": true
   },
   "outputs": [],
   "source": []
  }
 ],
 "metadata": {
  "kernelspec": {
   "display_name": "Python 2",
   "language": "python",
   "name": "python2"
  },
  "language_info": {
   "codemirror_mode": {
    "name": "ipython",
    "version": 2
   },
   "file_extension": ".py",
   "mimetype": "text/x-python",
   "name": "python",
   "nbconvert_exporter": "python",
   "pygments_lexer": "ipython2",
   "version": "2.7.11"
  },
  "widgets": {
   "state": {},
   "version": "1.1.1"
  }
 },
 "nbformat": 4,
 "nbformat_minor": 0
}
