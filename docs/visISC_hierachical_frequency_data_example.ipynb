{
 "cells": [
  {
   "cell_type": "markdown",
   "metadata": {},
   "source": [
    "# visISC Example: Visualizing Anomalous Frequency Data with Hierarchical Data \n",
    "In this example, we will show what to do when you are analysing frequency counts of data and the data is organized in an hierarchy. For instance, when you are analysing message or alarm rates over time, and you have many different types of messages or alarms, including higher level alarms.  "
   ]
  },
  {
   "cell_type": "code",
   "execution_count": 1,
   "metadata": {
    "collapsed": false
   },
   "outputs": [
    {
     "name": "stderr",
     "output_type": "stream",
     "text": [
      "//anaconda/lib/python2.7/site-packages/pyface/ui/wx/init.py:25: wxPyDeprecationWarning: Using deprecated class PySimpleApp. \n",
      "  _app = wx.PySimpleApp()\n",
      "Warning: Unable to import the wx backend for pyface due to traceback: Traceback (most recent call last):\n",
      "\t  File \"//anaconda/lib/python2.7/site-packages/pyface/toolkit.py\", line 45, in _init_toolkit\n",
      "\t    be = import_toolkit(tk)\n",
      "\t  File \"//anaconda/lib/python2.7/site-packages/pyface/toolkit.py\", line 31, in import_toolkit\n",
      "\t    __import__(be + 'init')\n",
      "\t  File \"//anaconda/lib/python2.7/site-packages/pyface/ui/wx/init.py\", line 25, in <module>\n",
      "\t    _app = wx.PySimpleApp()\n",
      "\t  File \"//anaconda/lib/python2.7/site-packages/wx-3.0-osx_cocoa/wx/_core.py\", line 91, in __init__\n",
      "\t    item.__init__(*args, **kw)\n",
      "\t  File \"//anaconda/lib/python2.7/site-packages/wx-3.0-osx_cocoa/wx/_core.py\", line 8734, in __init__\n",
      "\t    wx.App.__init__(self, redirect, filename, useBestVisual, clearSigInt)\n",
      "\t  File \"//anaconda/lib/python2.7/site-packages/wx-3.0-osx_cocoa/wx/_core.py\", line 8599, in __init__\n",
      "\t    raise SystemExit(msg)\n",
      "\tSystemExit: This program needs access to the screen.\n",
      "\tPlease run with a Framework build of python, and only when you are\n",
      "\tlogged in on the main display of your Mac.\n",
      "\n",
      "WARNING:traits.has_traits:DEPRECATED: traits.has_traits.wrapped_class, 'the 'implements' class advisor has been deprecated. Use the 'provides' class decorator.\n"
     ]
    }
   ],
   "source": [
    "import pyisc;\n",
    "import visisc;\n",
    "import numpy as np\n",
    "import datetime\n",
    "from scipy.stats import poisson, norm, multivariate_normal\n",
    "%matplotlib wx"
   ]
  },
  {
   "cell_type": "markdown",
   "metadata": {},
   "source": [
    "## Event Frequency Data\n",
    "In this example, similarly to the <a href=\"visISC_simple_frequency_data_example.ipynb\">previous example with a flat structure</a>, we create a data set with a set of sources and a set of Poisson distributed event frequency counts, but with many more event columns:"
   ]
  },
  {
   "cell_type": "code",
   "execution_count": 2,
   "metadata": {
    "collapsed": false
   },
   "outputs": [],
   "source": [
    "n_sources = 10\n",
    "n_events = 100\n",
    "num_of_normal_days = 200\n",
    "num_of_anomalous_days = 10\n",
    "data = None\n",
    "days_list = [num_of_normal_days, num_of_anomalous_days]\n",
    "dates = []\n",
    "for state in [0,1]: # normal, anomalous data\n",
    "    num_of_days = days_list[state]\n",
    "    for i in range(n_sources):\n",
    "        data0 = None\n",
    "        for j in range(n_events):\n",
    "            if state == 0:# Normal\n",
    "                po_dist = poisson(int((10+2*(n_sources-i))*(float(j)/n_events/2+0.75))) # from 0.75 to 1.25\n",
    "            else: # anomalous\n",
    "                po_dist = poisson(int((20+2*(n_sources-i))*(float(j)/n_events+0.5))) # from 0.5 to 1.5\n",
    "\n",
    "            tmp = po_dist.rvs(num_of_days)\n",
    "            if data0 is None:\n",
    "                data0 = tmp\n",
    "            else:\n",
    "                data0 = np.c_[data0,tmp]\n",
    "\n",
    "        tmp =  np.c_[\n",
    "                    [i] * (num_of_days), # Sources\n",
    "                    [ # Timestamp\n",
    "                        datetime.date(2015,02,24) + datetime.timedelta(d) \n",
    "                        for d in np.array(range(num_of_days)) + (0 if state==0 else num_of_normal_days)\n",
    "                    ], \n",
    "                    [1] * (num_of_days), # Measurement period\n",
    "                    data0, # Event frequency counts\n",
    "                    \n",
    "                    ]\n",
    "        \n",
    "        if data is None:\n",
    "            data = tmp\n",
    "        else:\n",
    "            data = np.r_[\n",
    "                tmp,\n",
    "                data\n",
    "            ]\n",
    "\n",
    "# Column index into the data\n",
    "source_column = 0\n",
    "date_column = 1\n",
    "period_column = 2\n",
    "first_event_column = 3\n",
    "last_event_column = first_event_column + n_events"
   ]
  },
  {
   "cell_type": "markdown",
   "metadata": {},
   "source": [
    "## Hierarchical Event Data Model\n",
    "Next, we create a event data model that describes how our events are organized in a type hierarchy. In this case, we assume a hierachical structure for the events, where the path of the event is returned by event_path (given the evetn column index) and likewise, it is also possible to return a severity level of the event in order to evaluate its importance."
   ]
  },
  {
   "cell_type": "code",
   "execution_count": 3,
   "metadata": {
    "collapsed": false
   },
   "outputs": [],
   "source": [
    "def event_path(x): # Returns a list of strings with 3 elements\n",
    "    return [\"Type_%i\"%(x/N) for N in [50, 10, 2]]\n",
    "\n",
    "def severity_level(x): # returns 3 different severity levels: 0, 1, 2\n",
    "    return x-(x/3)*3\n",
    "\n",
    "model = visisc.EventDataModel.hierarchical_model(\n",
    "    event_columns=range(first_event_column,last_event_column),\n",
    "    get_event_path = event_path,\n",
    "    get_severity_level = severity_level,\n",
    "    num_of_severity_levels=3\n",
    ")\n",
    "\n",
    "data_object = model.data_object(\n",
    "    data,\n",
    "    source_column = source_column,\n",
    "    class_column = source_column,\n",
    "    period_column=period_column,\n",
    "    date_column=date_column\n",
    ")\n",
    "\n",
    "anomaly_detector = model.fit_anomaly_detector(data_object,poisson_onesided=True)"
   ]
  },
  {
   "cell_type": "markdown",
   "metadata": {},
   "source": [
    "## Visualization\n",
    "Finally, we can viualize the event frequency data using the Visualization class. However, due to incompatibility between the used 3D engine and Jupyter notebook, we have to run the notebook as a script:"
   ]
  },
  {
   "cell_type": "markdown",
   "metadata": {},
   "source": [
    "vis = visisc.EventVisualization(model, 13.8,start_day=209)"
   ]
  },
  {
   "cell_type": "code",
   "execution_count": 4,
   "metadata": {
    "collapsed": false
   },
   "outputs": [
    {
     "name": "stdout",
     "output_type": "stream",
     "text": [
      "//anaconda/lib/python2.7/site-packages/path.py:122: UserWarning: Module argparse was already imported from //anaconda/lib/python2.7/argparse.pyc, but /anaconda/lib/python2.7/site-packages is being added to sys.path\n",
      "  import pkg_resources\n",
      "//anaconda/lib/python2.7/site-packages/path.py:122: UserWarning: Module pdb was already imported from //anaconda/lib/python2.7/pdb.pyc, but /anaconda/lib/python2.7/site-packages is being added to sys.path\n",
      "  import pkg_resources\n",
      "Python 2.7.11 |Anaconda 2.5.0 (x86_64)| (default, Dec  6 2015, 18:57:58) \n",
      "Type \"copyright\", \"credits\" or \"license\" for more information.\n",
      "\n",
      "IPython 4.0.3 -- An enhanced Interactive Python.\n",
      "?         -> Introduction and overview of IPython's features.\n",
      "%quickref -> Quick reference.\n",
      "help      -> Python's own help system.\n",
      "object?   -> Details about 'object', use 'object??' for extra details.\n",
      "//anaconda/lib/python2.7/site-packages/mayavi/tools/camera.py:288: FutureWarning: elementwise comparison failed; returning scalar instead, but in the future will perform elementwise comparison\n",
      "  if focalpoint is not None and not focalpoint == 'auto':\n",
      "\n",
      "\u001b[0;34mIn [\u001b[1;34m1\u001b[0;34m]: \u001b[0m\n",
      "\n",
      "\u001b[0;34mIn [\u001b[1;34m1\u001b[0;34m]: \u001b[0m"
     ]
    }
   ],
   "source": [
    "!ipython --matplotlib=wx --gui=wx -i visISC_hierachical_frequency_data_example.py"
   ]
  },
  {
   "cell_type": "markdown",
   "metadata": {},
   "source": [
    "### Class Level Visualization\n",
    "Now, you should see a window similar to the picture shown below. This is very similar to the what we got with the <a href=\"visISC_simple_frequency_data_example.ipynb\">flat model example</a>. However, in this case, we also have different shades of red to indicate different severity levels. Darker red indicates more sever events and lighter red indicates less sever events. Each column shows the total number of events for each source (or event type in next pictures) and the color the most anomalous severity level.<br/>\n",
    "<img width=\"75%\" src=\"./hierarchy_vis_1.png\"/><br/>\n",
    "### Root Level Visualization\n",
    "However, now when we click on a source label, only the event type levels below the root level are shown.<br/>\n",
    "<img width=\"75%\" src=\"hierarchy_vis_2.png\"/>\n",
    "### Middle Event Level Visualization\n",
    "It is now also possible to click on the event types to zoom down in the event hierarchy in order to find where the anomalies originated from. By clicking on the event types below the root, we get to the middle level event types shown below.<br/>\n",
    "<img width=\"75%\" src=\"hierarchy_vis_3.png\"/><br/>\n",
    "### Ground Level Visualization\n",
    "Finally, by clicking on the middle level event types we get to the leaf nodes of the hierarchy. Similarly to the flat model case, the anomalies are almost only visible at higher levels of the hierarchy.<br/>\n",
    "<img width=\"75%\" src=\"hierarchy_vis_4.png\"/><br/>"
   ]
  },
  {
   "cell_type": "code",
   "execution_count": null,
   "metadata": {
    "collapsed": true
   },
   "outputs": [],
   "source": []
  }
 ],
 "metadata": {
  "kernelspec": {
   "display_name": "Python 2",
   "language": "python",
   "name": "python2"
  },
  "language_info": {
   "codemirror_mode": {
    "name": "ipython",
    "version": 2
   },
   "file_extension": ".py",
   "mimetype": "text/x-python",
   "name": "python",
   "nbconvert_exporter": "python",
   "pygments_lexer": "ipython2",
   "version": "2.7.11"
  }
 },
 "nbformat": 4,
 "nbformat_minor": 0
}
