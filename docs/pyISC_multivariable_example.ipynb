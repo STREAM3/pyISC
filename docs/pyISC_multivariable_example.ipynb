{
 "cells": [
  {
   "cell_type": "markdown",
   "metadata": {},
   "source": [
    "# pyISC Example: Multivariate Anomaly Detection\n",
    "In this example, we extend the simple example with one Poisson distributed variable to the multivariate case with three variables, two Poisson distributed variables and one Gaussian distributed variable."
   ]
  },
  {
   "cell_type": "code",
   "execution_count": 1,
   "metadata": {
    "collapsed": false
   },
   "outputs": [],
   "source": [
    "import pyisc;\n",
    "import numpy as np\n",
    "from scipy.stats import poisson, norm\n",
    "%matplotlib inline\n",
    "from pylab import plot"
   ]
  },
  {
   "cell_type": "markdown",
   "metadata": {},
   "source": [
    "## Create Data\n",
    "Create a data set with 3 columns from different probablity distributions:"
   ]
  },
  {
   "cell_type": "code",
   "execution_count": 2,
   "metadata": {
    "collapsed": false
   },
   "outputs": [],
   "source": [
    "po_normal = poisson(10)\n",
    "po_anomaly = poisson(25)\n",
    "\n",
    "po_normal2 = poisson(2)\n",
    "po_anomaly2 = poisson(3)\n",
    "\n",
    "gs_normal = norm(1, 12)\n",
    "gs_anomaly = norm(2,30)\n",
    "\n",
    "normal_len = 10000\n",
    "anomaly_len = 15\n",
    "\n",
    "data = np.column_stack(\n",
    "    [\n",
    "        [1] * (normal_len+anomaly_len),\n",
    "        list(po_normal.rvs(normal_len))+list(po_anomaly.rvs(anomaly_len)),\n",
    "        list(po_normal2.rvs(normal_len))+list(po_anomaly2.rvs(anomaly_len)),\n",
    "        list(gs_normal.rvs(normal_len))+list(gs_anomaly.rvs(anomaly_len)),\n",
    "    ]\n",
    ") "
   ]
  },
  {
   "cell_type": "markdown",
   "metadata": {},
   "source": [
    "## Used Anomaly Detector\n",
    "Create an anomaly detector using as first argument the used statistical models. The we use  \n",
    "- a onesided Poisson distribution for modelling the first fequency column (column 1) (as in the first example),\n",
    "- a twosided Poisson distribution for the second frequency column (column 2),\n",
    "- and a Gaussin (Normal) distribution for the last column (column 3).\n",
    "\n",
    "Given that we now have more than one variable, it is necessary to also add a method to combine the output from the statistical models, which in this case is the maximum anomaly score of each component model:"
   ]
  },
  {
   "cell_type": "code",
   "execution_count": 3,
   "metadata": {
    "collapsed": false
   },
   "outputs": [],
   "source": [
    "anomaly_detector = pyisc.AnomalyDetector(\n",
    "    component_models=[\n",
    "        pyisc.P_PoissonOnesided(1,0), # columns 1 and 0\n",
    "        pyisc.P_Poisson(2,0), # columns 2 and 0\n",
    "        pyisc.P_Gaussian(3) # column 3\n",
    "    ],\n",
    "    output_combination_rule=pyisc.cr_max\n",
    ")"
   ]
  },
  {
   "cell_type": "markdown",
   "metadata": {},
   "source": [
    "Train the anomaly detector:"
   ]
  },
  {
   "cell_type": "code",
   "execution_count": 4,
   "metadata": {
    "collapsed": false
   },
   "outputs": [],
   "source": [
    "anomaly_detector.fit(data);"
   ]
  },
  {
   "cell_type": "markdown",
   "metadata": {},
   "source": [
    "Compute the anomaly scores for each data point:"
   ]
  },
  {
   "cell_type": "code",
   "execution_count": 5,
   "metadata": {
    "collapsed": false
   },
   "outputs": [],
   "source": [
    "scores = anomaly_detector.anomaly_score(data)"
   ]
  },
  {
   "cell_type": "markdown",
   "metadata": {},
   "source": [
    "## Anomaly Scores\n",
    "Now we can print some example of normal frequencies vs. anomaly scores for the 15 first normal data points: "
   ]
  },
  {
   "cell_type": "code",
   "execution_count": 6,
   "metadata": {
    "collapsed": false
   },
   "outputs": [
    {
     "name": "stdout",
     "output_type": "stream",
     "text": [
      "    #Days  Freq1  Freq2    Measure  Anomaly Score\n",
      "0       1     15      6  31.640805       4.482394\n",
      "1       1     10      0  -6.221852       1.276463\n",
      "2       1      5      2 -11.506986       1.176589\n",
      "3       1      7      2   9.093608       0.696630\n",
      "4       1      6      2  -4.250562       0.395275\n",
      "5       1     10      4  18.177420       1.924662\n",
      "6       1     12      0   7.077667       1.276463\n",
      "7       1     11      4 -10.145542       1.924662\n",
      "8       1      7      2 -13.973796       1.506060\n",
      "9       1     10      1  -8.357895       0.803951\n",
      "10      1     13      1 -11.721091       1.549525\n",
      "11      1     11      2  19.583249       2.092468\n",
      "12      1      9      1 -21.199956       2.669648\n",
      "13      1      5      3 -21.831151       2.785736\n",
      "14      1      8      0  10.959541       1.276463\n"
     ]
    }
   ],
   "source": [
    "from pandas import DataFrame\n",
    "df= DataFrame(data[:15], columns=['#Days', 'Freq1','Freq2','Measure'])\n",
    "df['Anomaly Score'] = scores[:15]\n",
    "print df.to_string()"
   ]
  },
  {
   "cell_type": "markdown",
   "metadata": {},
   "source": [
    "The anomalous frequencies vs. anomaly scores for the 15 anomalous data points:"
   ]
  },
  {
   "cell_type": "code",
   "execution_count": 7,
   "metadata": {
    "collapsed": false,
    "scrolled": true
   },
   "outputs": [
    {
     "name": "stdout",
     "output_type": "stream",
     "text": [
      "    #Days  Freq1  Freq2    Measure  Anomaly Score\n",
      "0       1     26      4  17.835231      10.874275\n",
      "1       1     27      4  20.534576      11.882721\n",
      "2       1     24      7  -6.679635       8.966409\n",
      "3       1     27      2 -40.388545      11.882721\n",
      "4       1     31      4 -42.161336      16.253637\n",
      "5       1     17      4 -40.423333       7.296623\n",
      "6       1     26      4  38.685746      10.874275\n",
      "7       1     21      0 -39.785206       7.106029\n",
      "8       1     30      4  45.825037      15.112407\n",
      "9       1     29      2  44.816185      14.002850\n",
      "10      1     26      5  13.795673      10.874275\n",
      "11      1     17      3 -28.453367       4.147918\n",
      "12      1     25      2  37.446709       9.901763\n",
      "13      1     34      1  -9.152000      19.858347\n",
      "14      1     27      1 -16.928193      11.882721\n"
     ]
    }
   ],
   "source": [
    "df= DataFrame(data[-15:], columns=['#Days', 'Freq1','Freq2','Measure'])\n",
    "df['Anomaly Score'] = scores[-15:]\n",
    "print df.to_string()\n"
   ]
  },
  {
   "cell_type": "markdown",
   "metadata": {},
   "source": [
    "As can be seen above, the anomalous data also have higher anomaly scores than the normal frequencies as it should be.<br/><br/>\n",
    "This becomes even more visible if we plot the anomaly scores (y-axis) against each data point (x-axis):"
   ]
  },
  {
   "cell_type": "code",
   "execution_count": 8,
   "metadata": {
    "collapsed": false
   },
   "outputs": [
    {
     "data": {
      "image/png": "[encoded data removed]",
      "text/plain": [
       "<matplotlib.figure.Figure at 0x10d55b050>"
      ]
     },
     "metadata": {},
     "output_type": "display_data"
    }
   ],
   "source": [
    "plot(scores, '.');"
   ]
  },
  {
   "cell_type": "markdown",
   "metadata": {},
   "source": [
    "We can also look at the details of each column in terms of their individual anomaly scores:"
   ]
  },
  {
   "cell_type": "code",
   "execution_count": 9,
   "metadata": {
    "collapsed": false
   },
   "outputs": [],
   "source": [
    "score_details = anomaly_detector.anomaly_score_details(data)"
   ]
  },
  {
   "cell_type": "code",
   "execution_count": 10,
   "metadata": {
    "collapsed": false
   },
   "outputs": [
    {
     "data": {
      "text/html": [
       "<div>\n",
       "<table border=\"1\" class=\"dataframe\">\n",
       "  <thead>\n",
       "    <tr style=\"text-align: right;\">\n",
       "      <th></th>\n",
       "      <th>#Days</th>\n",
       "      <th>Freq1</th>\n",
       "      <th>Freq2</th>\n",
       "      <th>Measure</th>\n",
       "      <th>Anomaly:Freq1</th>\n",
       "      <th>Anomaly:Freq2</th>\n",
       "      <th>Anomaly:Measure</th>\n",
       "      <th>Anomaly Score</th>\n",
       "    </tr>\n",
       "  </thead>\n",
       "  <tbody>\n",
       "    <tr>\n",
       "      <th>0</th>\n",
       "      <td>1</td>\n",
       "      <td>26</td>\n",
       "      <td>4</td>\n",
       "      <td>17.835231</td>\n",
       "      <td>10.874275</td>\n",
       "      <td>1.924662</td>\n",
       "      <td>1.817321</td>\n",
       "      <td>10.874275</td>\n",
       "    </tr>\n",
       "    <tr>\n",
       "      <th>1</th>\n",
       "      <td>1</td>\n",
       "      <td>27</td>\n",
       "      <td>4</td>\n",
       "      <td>20.534576</td>\n",
       "      <td>11.882721</td>\n",
       "      <td>1.924662</td>\n",
       "      <td>2.249620</td>\n",
       "      <td>11.882721</td>\n",
       "    </tr>\n",
       "    <tr>\n",
       "      <th>2</th>\n",
       "      <td>1</td>\n",
       "      <td>24</td>\n",
       "      <td>7</td>\n",
       "      <td>-6.679635</td>\n",
       "      <td>8.966409</td>\n",
       "      <td>5.351405</td>\n",
       "      <td>0.626646</td>\n",
       "      <td>8.966409</td>\n",
       "    </tr>\n",
       "    <tr>\n",
       "      <th>3</th>\n",
       "      <td>1</td>\n",
       "      <td>27</td>\n",
       "      <td>2</td>\n",
       "      <td>-40.388545</td>\n",
       "      <td>11.882721</td>\n",
       "      <td>0.024515</td>\n",
       "      <td>7.286167</td>\n",
       "      <td>11.882721</td>\n",
       "    </tr>\n",
       "    <tr>\n",
       "      <th>4</th>\n",
       "      <td>1</td>\n",
       "      <td>31</td>\n",
       "      <td>4</td>\n",
       "      <td>-42.161336</td>\n",
       "      <td>16.253637</td>\n",
       "      <td>1.924662</td>\n",
       "      <td>7.828853</td>\n",
       "      <td>16.253637</td>\n",
       "    </tr>\n",
       "    <tr>\n",
       "      <th>5</th>\n",
       "      <td>1</td>\n",
       "      <td>17</td>\n",
       "      <td>4</td>\n",
       "      <td>-40.423333</td>\n",
       "      <td>3.577427</td>\n",
       "      <td>1.924662</td>\n",
       "      <td>7.296623</td>\n",
       "      <td>7.296623</td>\n",
       "    </tr>\n",
       "    <tr>\n",
       "      <th>6</th>\n",
       "      <td>1</td>\n",
       "      <td>26</td>\n",
       "      <td>4</td>\n",
       "      <td>38.685746</td>\n",
       "      <td>10.874275</td>\n",
       "      <td>1.924662</td>\n",
       "      <td>6.290603</td>\n",
       "      <td>10.874275</td>\n",
       "    </tr>\n",
       "    <tr>\n",
       "      <th>7</th>\n",
       "      <td>1</td>\n",
       "      <td>21</td>\n",
       "      <td>0</td>\n",
       "      <td>-39.785206</td>\n",
       "      <td>6.396608</td>\n",
       "      <td>1.276463</td>\n",
       "      <td>7.106029</td>\n",
       "      <td>7.106029</td>\n",
       "    </tr>\n",
       "    <tr>\n",
       "      <th>8</th>\n",
       "      <td>1</td>\n",
       "      <td>30</td>\n",
       "      <td>4</td>\n",
       "      <td>45.825037</td>\n",
       "      <td>15.112407</td>\n",
       "      <td>1.924662</td>\n",
       "      <td>8.442015</td>\n",
       "      <td>15.112407</td>\n",
       "    </tr>\n",
       "    <tr>\n",
       "      <th>9</th>\n",
       "      <td>1</td>\n",
       "      <td>29</td>\n",
       "      <td>2</td>\n",
       "      <td>44.816185</td>\n",
       "      <td>14.002850</td>\n",
       "      <td>0.024515</td>\n",
       "      <td>8.118323</td>\n",
       "      <td>14.002850</td>\n",
       "    </tr>\n",
       "    <tr>\n",
       "      <th>10</th>\n",
       "      <td>1</td>\n",
       "      <td>26</td>\n",
       "      <td>5</td>\n",
       "      <td>13.795673</td>\n",
       "      <td>10.874275</td>\n",
       "      <td>2.915291</td>\n",
       "      <td>1.247625</td>\n",
       "      <td>10.874275</td>\n",
       "    </tr>\n",
       "    <tr>\n",
       "      <th>11</th>\n",
       "      <td>1</td>\n",
       "      <td>17</td>\n",
       "      <td>3</td>\n",
       "      <td>-28.453367</td>\n",
       "      <td>3.577427</td>\n",
       "      <td>1.115157</td>\n",
       "      <td>4.147918</td>\n",
       "      <td>4.147918</td>\n",
       "    </tr>\n",
       "    <tr>\n",
       "      <th>12</th>\n",
       "      <td>1</td>\n",
       "      <td>25</td>\n",
       "      <td>2</td>\n",
       "      <td>37.446709</td>\n",
       "      <td>9.901763</td>\n",
       "      <td>0.024515</td>\n",
       "      <td>5.950081</td>\n",
       "      <td>9.901763</td>\n",
       "    </tr>\n",
       "    <tr>\n",
       "      <th>13</th>\n",
       "      <td>1</td>\n",
       "      <td>34</td>\n",
       "      <td>1</td>\n",
       "      <td>-9.152000</td>\n",
       "      <td>19.858347</td>\n",
       "      <td>0.282988</td>\n",
       "      <td>0.892948</td>\n",
       "      <td>19.858347</td>\n",
       "    </tr>\n",
       "    <tr>\n",
       "      <th>14</th>\n",
       "      <td>1</td>\n",
       "      <td>27</td>\n",
       "      <td>1</td>\n",
       "      <td>-16.928193</td>\n",
       "      <td>11.882721</td>\n",
       "      <td>0.282988</td>\n",
       "      <td>1.945461</td>\n",
       "      <td>11.882721</td>\n",
       "    </tr>\n",
       "  </tbody>\n",
       "</table>\n",
       "</div>"
      ],
      "text/plain": [
       "    #Days  Freq1  Freq2    Measure  Anomaly:Freq1  Anomaly:Freq2  \\\n",
       "0       1     26      4  17.835231      10.874275       1.924662   \n",
       "1       1     27      4  20.534576      11.882721       1.924662   \n",
       "2       1     24      7  -6.679635       8.966409       5.351405   \n",
       "3       1     27      2 -40.388545      11.882721       0.024515   \n",
       "4       1     31      4 -42.161336      16.253637       1.924662   \n",
       "5       1     17      4 -40.423333       3.577427       1.924662   \n",
       "6       1     26      4  38.685746      10.874275       1.924662   \n",
       "7       1     21      0 -39.785206       6.396608       1.276463   \n",
       "8       1     30      4  45.825037      15.112407       1.924662   \n",
       "9       1     29      2  44.816185      14.002850       0.024515   \n",
       "10      1     26      5  13.795673      10.874275       2.915291   \n",
       "11      1     17      3 -28.453367       3.577427       1.115157   \n",
       "12      1     25      2  37.446709       9.901763       0.024515   \n",
       "13      1     34      1  -9.152000      19.858347       0.282988   \n",
       "14      1     27      1 -16.928193      11.882721       0.282988   \n",
       "\n",
       "    Anomaly:Measure  Anomaly Score  \n",
       "0          1.817321      10.874275  \n",
       "1          2.249620      11.882721  \n",
       "2          0.626646       8.966409  \n",
       "3          7.286167      11.882721  \n",
       "4          7.828853      16.253637  \n",
       "5          7.296623       7.296623  \n",
       "6          6.290603      10.874275  \n",
       "7          7.106029       7.106029  \n",
       "8          8.442015      15.112407  \n",
       "9          8.118323      14.002850  \n",
       "10         1.247625      10.874275  \n",
       "11         4.147918       4.147918  \n",
       "12         5.950081       9.901763  \n",
       "13         0.892948      19.858347  \n",
       "14         1.945461      11.882721  "
      ]
     },
     "execution_count": 10,
     "metadata": {},
     "output_type": "execute_result"
    }
   ],
   "source": [
    "df= DataFrame(data[-15:], columns=['#Days', 'Freq1','Freq2','Measure'])\n",
    "df['Anomaly:Freq1'] = [detail[1][0] for detail in score_details[-15:]]   # Anomaly Score of Freq1\n",
    "df['Anomaly:Freq2'] = [detail[1][1] for detail in score_details[-15:]]   # Anomaly Score of Freq2\n",
    "df['Anomaly:Measure'] = [detail[1][2] for detail in score_details[-15:]] # Anomaly Score of Measure\n",
    "df['Anomaly Score'] = [detail[0] for detail in score_details[-15:]]      # Combined Anomaly Score\n",
    "df"
   ]
  },
  {
   "cell_type": "markdown",
   "metadata": {},
   "source": [
    "Above, the last column corresponds to the same anomaly score as before, where we can se that it corresponds to the maximum of the individual anomaly score to the left, thus, it is the result of the combination rule specified to the anomaly detector."
   ]
  },
  {
   "cell_type": "code",
   "execution_count": null,
   "metadata": {
    "collapsed": true
   },
   "outputs": [],
   "source": []
  }
 ],
 "metadata": {
  "kernelspec": {
   "display_name": "Python 2",
   "language": "python",
   "name": "python2"
  },
  "language_info": {
   "codemirror_mode": {
    "name": "ipython",
    "version": 2
   },
   "file_extension": ".py",
   "mimetype": "text/x-python",
   "name": "python",
   "nbconvert_exporter": "python",
   "pygments_lexer": "ipython2",
   "version": "2.7.11"
  }
 },
 "nbformat": 4,
 "nbformat_minor": 0
}
