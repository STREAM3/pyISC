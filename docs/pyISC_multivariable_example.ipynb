{
 "cells": [
  {
   "cell_type": "markdown",
   "metadata": {},
   "source": [
    "# pyISC Example: MultivariableAnomaly Detection\n",
    "In this example, we extend the simple example with one Poisson distributed variable to the multivariate case with three variables, two Poisson distributed variables and one Gaussian distributed variable."
   ]
  },
  {
   "cell_type": "code",
   "execution_count": 1,
   "metadata": {},
   "outputs": [],
   "source": [
    "import pyisc;\n",
    "import numpy as np\n",
    "from scipy.stats import poisson, norm\n",
    "%matplotlib inline\n",
    "from pylab import plot"
   ]
  },
  {
   "cell_type": "markdown",
   "metadata": {},
   "source": [
    "## Create Data\n",
    "Create a data set with 3 columns from different probablity distributions:"
   ]
  },
  {
   "cell_type": "code",
   "execution_count": 2,
   "metadata": {},
   "outputs": [],
   "source": [
    "po_normal = poisson(10)\n",
    "po_anomaly = poisson(25)\n",
    "\n",
    "po_normal2 = poisson(2)\n",
    "po_anomaly2 = poisson(3)\n",
    "\n",
    "gs_normal = norm(1, 12)\n",
    "gs_anomaly = norm(2,30)\n",
    "\n",
    "normal_len = 10000\n",
    "anomaly_len = 15\n",
    "\n",
    "data = np.column_stack(\n",
    "    [\n",
    "        [1] * (normal_len+anomaly_len),\n",
    "        list(po_normal.rvs(normal_len))+list(po_anomaly.rvs(anomaly_len)),\n",
    "        list(po_normal2.rvs(normal_len))+list(po_anomaly2.rvs(anomaly_len)),\n",
    "        list(gs_normal.rvs(normal_len))+list(gs_anomaly.rvs(anomaly_len)),\n",
    "    ]\n",
    ")"
   ]
  },
  {
   "cell_type": "markdown",
   "metadata": {},
   "source": [
    "## Used Anomaly Detector\n",
    "Create an anomaly detector using as first argument the used statistical models. The we use  \n",
    "- a onesided Poisson distribution for modelling the first fequency column (column 1) (as in the first example),\n",
    "- a twosided Poisson distribution for the second frequency column (column 2),\n",
    "- and a Gaussin (Normal) distribution for the last column (column 3).\n",
    "\n",
    "Given that we now have more than one variable, it is necessary to also add a method to combine the output from the statistical models, which in this case is the maximum anomaly score of each component model:"
   ]
  },
  {
   "cell_type": "code",
   "execution_count": 3,
   "metadata": {},
   "outputs": [],
   "source": [
    "anomaly_detector = pyisc.AnomalyDetector(\n",
    "    component_models=[\n",
    "        pyisc.P_PoissonOnesided(1,0), # columns 1 and 0\n",
    "        pyisc.P_Poisson(2,0), # columns 2 and 0\n",
    "        pyisc.P_Gaussian(3) # column 3\n",
    "    ],\n",
    "    output_combination_rule=pyisc.cr_max\n",
    ")"
   ]
  },
  {
   "cell_type": "markdown",
   "metadata": {},
   "source": [
    "Train the anomaly detector:"
   ]
  },
  {
   "cell_type": "code",
   "execution_count": 4,
   "metadata": {},
   "outputs": [],
   "source": [
    "anomaly_detector.fit(data);"
   ]
  },
  {
   "cell_type": "code",
   "execution_count": 5,
   "metadata": {},
   "outputs": [],
   "source": []
  },
  {
   "cell_type": "markdown",
   "metadata": {},
   "source": [
    "Compute the anomaly scores for each data point:"
   ]
  },
  {
   "cell_type": "code",
   "execution_count": null,
   "metadata": {},
   "outputs": [],
   "source": [
    "scores = anomaly_detector.anomaly_score(data)"
   ]
  },
  {
   "cell_type": "markdown",
   "metadata": {},
   "source": [
    "## Anomaly Scores\n",
    "Now we can print some example of normal frequencies vs. anomaly scores for the 15 first normal data points: "
   ]
  },
  {
   "cell_type": "code",
   "execution_count": null,
   "metadata": {},
   "outputs": [],
   "source": [
    "from pandas import DataFrame\n",
    "df= DataFrame(data[:15], columns=['#Days', 'Freq1','Freq2','Measure'])\n",
    "df['Anomaly Score'] = scores[:15]\n",
    "print df.to_string()"
   ]
  },
  {
   "cell_type": "markdown",
   "metadata": {},
   "source": [
    "The anomalous frequencies vs. anomaly scores for the 15 anomalous data points:"
   ]
  },
  {
   "cell_type": "code",
   "execution_count": null,
   "metadata": {
    "scrolled": true
   },
   "outputs": [],
   "source": [
    "df= DataFrame(data[-15:], columns=['#Days', 'Freq1','Freq2','Measure'])\n",
    "df['Anomaly Score'] = scores[-15:]\n",
    "print df.to_string()"
   ]
  },
  {
   "cell_type": "markdown",
   "metadata": {},
   "source": [
    "As can be seen above, the anomalous data also have higher anomaly scores than the normal frequencies as it should be.<br/><br/>\n",
    "This becomes even more visible if we plot the anomaly scores (y-axis) against each data point (x-axis):"
   ]
  },
  {
   "cell_type": "code",
   "execution_count": null,
   "metadata": {},
   "outputs": [],
   "source": [
    "plot(scores, '.');"
   ]
  },
  {
   "cell_type": "markdown",
   "metadata": {},
   "source": [
    "We can also look at the details of each column in terms of their individual anomaly scores:"
   ]
  },
  {
   "cell_type": "code",
   "execution_count": null,
   "metadata": {},
   "outputs": [],
   "source": [
    "score_details = anomaly_detector.anomaly_score_details(data)"
   ]
  },
  {
   "cell_type": "code",
   "execution_count": null,
   "metadata": {},
   "outputs": [],
   "source": [
    "df= DataFrame(data[-15:], columns=['#Days', 'Freq1','Freq2','Measure'])\n",
    "df['Anomaly:Freq1'] = [detail[1][0] for detail in score_details[-15:]]   # Anomaly Score of Freq1\n",
    "df['Anomaly:Freq2'] = [detail[1][1] for detail in score_details[-15:]]   # Anomaly Score of Freq2\n",
    "df['Anomaly:Measure'] = [detail[1][2] for detail in score_details[-15:]] # Anomaly Score of Measure\n",
    "df['Anomaly Score'] = [detail[0] for detail in score_details[-15:]]      # Combined Anomaly Score\n",
    "df"
   ]
  },
  {
   "cell_type": "markdown",
   "metadata": {},
   "source": [
    "Above, the last column corresponds to the same anomaly score as before, where we can se that it corresponds to the maximum of the individual anomaly score to the left, thus, it is the result of the combination rule specified to the anomaly detector."
   ]
  },
  {
   "cell_type": "code",
   "execution_count": null,
   "metadata": {},
   "outputs": [],
   "source": []
  }
 ],
 "metadata": {
  "kernelspec": {
   "display_name": "Python 2",
   "language": "python",
   "name": "python2"
  },
  "language_info": {
   "codemirror_mode": {
    "name": "ipython",
    "version": 2
   },
   "file_extension": ".py",
   "mimetype": "text/x-python",
   "name": "python",
   "nbconvert_exporter": "python",
   "pygments_lexer": "ipython2",
   "version": "2.7.14"
  },
  "widgets": {
   "state": {},
   "version": "1.1.1"
  }
 },
 "nbformat": 4,
 "nbformat_minor": 1
}
