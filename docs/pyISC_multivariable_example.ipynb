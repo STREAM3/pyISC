{
 "cells": [
  {
   "cell_type": "markdown",
   "metadata": {},
   "source": [
    "# pyISC Example: MultivariableAnomaly Detection\n",
    "In this example, we extend the simple example with one Poisson distributed variable to the multivariate case with three variables, two Poisson distributed variables and one Gaussian distributed variable."
   ]
  },
  {
   "cell_type": "code",
   "execution_count": 1,
   "metadata": {
    "collapsed": false
   },
   "outputs": [],
   "source": [
    "import pyisc;\n",
    "import numpy as np\n",
    "from scipy.stats import poisson, norm\n",
    "%matplotlib inline\n",
    "from pylab import plot"
   ]
  },
  {
   "cell_type": "markdown",
   "metadata": {},
   "source": [
    "## Create Data\n",
    "Create a data set with 3 columns from different probablity distributions:"
   ]
  },
  {
   "cell_type": "code",
   "execution_count": 2,
   "metadata": {
    "collapsed": false
   },
   "outputs": [],
   "source": [
    "po_normal = poisson(10)\n",
    "po_anomaly = poisson(25)\n",
    "\n",
    "po_normal2 = poisson(2)\n",
    "po_anomaly2 = poisson(3)\n",
    "\n",
    "gs_normal = norm(1, 12)\n",
    "gs_anomaly = norm(2,30)\n",
    "\n",
    "normal_len = 10000\n",
    "anomaly_len = 15\n",
    "\n",
    "data = np.column_stack(\n",
    "    [\n",
    "        [1] * (normal_len+anomaly_len),\n",
    "        list(po_normal.rvs(normal_len))+list(po_anomaly.rvs(anomaly_len)),\n",
    "        list(po_normal2.rvs(normal_len))+list(po_anomaly2.rvs(anomaly_len)),\n",
    "        list(gs_normal.rvs(normal_len))+list(gs_anomaly.rvs(anomaly_len)),\n",
    "    ]\n",
    ")"
   ]
  },
  {
   "cell_type": "markdown",
   "metadata": {},
   "source": [
    "## Used Anomaly Detector\n",
    "Create an anomaly detector using as first argument the used statistical models. The we use  \n",
    "- a onesided Poisson distribution for modelling the first fequency column (column 1) (as in the first example),\n",
    "- a twosided Poisson distribution for the second frequency column (column 2),\n",
    "- and a Gaussin (Normal) distribution for the last column (column 3).\n",
    "\n",
    "Given that we now have more than one variable, it is necessary to also add a method to combine the output from the statistical models, which in this case is the maximum anomaly score of each component model:"
   ]
  },
  {
   "cell_type": "code",
   "execution_count": 3,
   "metadata": {
    "collapsed": false
   },
   "outputs": [],
   "source": [
    "anomaly_detector = pyisc.AnomalyDetector(\n",
    "    component_models=[\n",
    "        pyisc.P_PoissonOnesided(1,0), # columns 1 and 0\n",
    "        pyisc.P_Poisson(2,0), # columns 2 and 0\n",
    "        pyisc.P_Gaussian(3) # column 3\n",
    "    ],\n",
    "    output_combination_rule=pyisc.cr_max\n",
    ")"
   ]
  },
  {
   "cell_type": "markdown",
   "metadata": {},
   "source": [
    "Train the anomaly detector:"
   ]
  },
  {
   "cell_type": "code",
   "execution_count": 4,
   "metadata": {
    "collapsed": false
   },
   "outputs": [],
   "source": [
    "anomaly_detector.fit(data);"
   ]
  },
  {
   "cell_type": "markdown",
   "metadata": {},
   "source": [
    "Compute the anomaly scores for each data point:"
   ]
  },
  {
   "cell_type": "code",
   "execution_count": 5,
   "metadata": {
    "collapsed": false
   },
   "outputs": [],
   "source": [
    "scores = anomaly_detector.anomaly_score(data)"
   ]
  },
  {
   "cell_type": "markdown",
   "metadata": {},
   "source": [
    "## Anomaly Scores\n",
    "Now we can print some example of normal frequencies vs. anomaly scores for the 15 first normal data points: "
   ]
  },
  {
   "cell_type": "code",
   "execution_count": 6,
   "metadata": {
    "collapsed": false
   },
   "outputs": [
    {
     "name": "stdout",
     "output_type": "stream",
     "text": [
      "    #Days  Freq1  Freq2    Measure  Anomaly Score\n",
      "0       1      6      0   3.144954       1.969348\n",
      "1       1     12      1  -8.590671       1.187883\n",
      "2       1      7      0  -8.306233       1.969348\n",
      "3       1     15      1  -2.996165       2.474325\n",
      "4       1      7      1  17.399693       1.718765\n",
      "5       1      9      1  -1.029348       0.147220\n",
      "6       1      6      1  10.171075       0.789423\n",
      "7       1     12      3   6.371124       1.187883\n",
      "8       1     12      2 -13.694986       1.492583\n",
      "9       1     10      3  15.229117       1.409655\n",
      "10      1      5      1   6.140766       0.390753\n",
      "11      1     10      1   9.682373       0.736690\n",
      "12      1     10      1   0.341938       0.048744\n",
      "13      1     14      1   9.530467       1.990720\n",
      "14      1     10      1   0.600365       0.031119\n"
     ]
    }
   ],
   "source": [
    "from pandas import DataFrame\n",
    "df= DataFrame(data[:15], columns=['#Days', 'Freq1','Freq2','Measure'])\n",
    "df['Anomaly Score'] = scores[:15]\n",
    "print df.to_string()"
   ]
  },
  {
   "cell_type": "markdown",
   "metadata": {},
   "source": [
    "The anomalous frequencies vs. anomaly scores for the 15 anomalous data points:"
   ]
  },
  {
   "cell_type": "code",
   "execution_count": 7,
   "metadata": {
    "collapsed": false,
    "scrolled": true
   },
   "outputs": [
    {
     "name": "stdout",
     "output_type": "stream",
     "text": [
      "    #Days  Freq1  Freq2    Measure  Anomaly Score\n",
      "0       1     35      4  17.805613      21.184607\n",
      "1       1     33      5 -28.278057      18.689368\n",
      "2       1     25      1 -39.349034       9.942971\n",
      "3       1     32      3  76.205988      21.139095\n",
      "4       1     23      5  14.203496       8.105611\n",
      "5       1     29      6  10.627192      14.054365\n",
      "6       1     26      5  20.077559      10.918049\n",
      "7       1     30      1  57.401781      15.166514\n",
      "8       1     25      3 -10.454002       9.942971\n",
      "9       1     25      4  -6.828961       9.942971\n",
      "10      1     23      6 -15.693489       8.105611\n",
      "11      1     27      2 -51.129282      11.929069\n",
      "12      1     22      2 -12.175368       7.245995\n",
      "13      1     27      2  39.293701      11.929069\n",
      "14      1     25      5   1.989791       9.942971\n"
     ]
    }
   ],
   "source": [
    "df= DataFrame(data[-15:], columns=['#Days', 'Freq1','Freq2','Measure'])\n",
    "df['Anomaly Score'] = scores[-15:]\n",
    "print df.to_string()"
   ]
  },
  {
   "cell_type": "markdown",
   "metadata": {},
   "source": [
    "As can be seen above, the anomalous data also have higher anomaly scores than the normal frequencies as it should be.<br/><br/>\n",
    "This becomes even more visible if we plot the anomaly scores (y-axis) against each data point (x-axis):"
   ]
  },
  {
   "cell_type": "code",
   "execution_count": 8,
   "metadata": {
    "collapsed": false
   },
   "outputs": [
    {
     "data": {
      "image/png": "[encoded data removed]",
      "text/plain": [
       "<matplotlib.figure.Figure at 0x1042122d0>"
      ]
     },
     "metadata": {},
     "output_type": "display_data"
    }
   ],
   "source": [
    "plot(scores, '.');"
   ]
  },
  {
   "cell_type": "markdown",
   "metadata": {},
   "source": [
    "We can also look at the details of each column in terms of their individual anomaly scores:"
   ]
  },
  {
   "cell_type": "code",
   "execution_count": 9,
   "metadata": {
    "collapsed": false
   },
   "outputs": [],
   "source": [
    "score_details = anomaly_detector.anomaly_score_details(data)"
   ]
  },
  {
   "cell_type": "code",
   "execution_count": 10,
   "metadata": {
    "collapsed": false
   },
   "outputs": [
    {
     "data": {
      "text/html": [
       "<div>\n",
       "<table border=\"1\" class=\"dataframe\">\n",
       "  <thead>\n",
       "    <tr style=\"text-align: right;\">\n",
       "      <th></th>\n",
       "      <th>#Days</th>\n",
       "      <th>Freq1</th>\n",
       "      <th>Freq2</th>\n",
       "      <th>Measure</th>\n",
       "      <th>Anomaly:Freq1</th>\n",
       "      <th>Anomaly:Freq2</th>\n",
       "      <th>Anomaly:Measure</th>\n",
       "      <th>Anomaly Score</th>\n",
       "    </tr>\n",
       "  </thead>\n",
       "  <tbody>\n",
       "    <tr>\n",
       "      <th>0</th>\n",
       "      <td>1</td>\n",
       "      <td>35</td>\n",
       "      <td>4</td>\n",
       "      <td>17.805613</td>\n",
       "      <td>21.184607</td>\n",
       "      <td>1.984751</td>\n",
       "      <td>1.779511</td>\n",
       "      <td>21.184607</td>\n",
       "    </tr>\n",
       "    <tr>\n",
       "      <th>1</th>\n",
       "      <td>1</td>\n",
       "      <td>33</td>\n",
       "      <td>5</td>\n",
       "      <td>-28.278057</td>\n",
       "      <td>18.689368</td>\n",
       "      <td>2.996787</td>\n",
       "      <td>4.145703</td>\n",
       "      <td>18.689368</td>\n",
       "    </tr>\n",
       "    <tr>\n",
       "      <th>2</th>\n",
       "      <td>1</td>\n",
       "      <td>25</td>\n",
       "      <td>1</td>\n",
       "      <td>-39.349034</td>\n",
       "      <td>9.942971</td>\n",
       "      <td>0.004069</td>\n",
       "      <td>7.022129</td>\n",
       "      <td>9.942971</td>\n",
       "    </tr>\n",
       "    <tr>\n",
       "      <th>3</th>\n",
       "      <td>1</td>\n",
       "      <td>32</td>\n",
       "      <td>3</td>\n",
       "      <td>76.205988</td>\n",
       "      <td>17.484917</td>\n",
       "      <td>0.788332</td>\n",
       "      <td>21.139095</td>\n",
       "      <td>21.139095</td>\n",
       "    </tr>\n",
       "    <tr>\n",
       "      <th>4</th>\n",
       "      <td>1</td>\n",
       "      <td>23</td>\n",
       "      <td>5</td>\n",
       "      <td>14.203496</td>\n",
       "      <td>8.105611</td>\n",
       "      <td>2.996787</td>\n",
       "      <td>1.272704</td>\n",
       "      <td>8.105611</td>\n",
       "    </tr>\n",
       "    <tr>\n",
       "      <th>5</th>\n",
       "      <td>1</td>\n",
       "      <td>29</td>\n",
       "      <td>6</td>\n",
       "      <td>10.627192</td>\n",
       "      <td>14.054365</td>\n",
       "      <td>4.167481</td>\n",
       "      <td>0.839761</td>\n",
       "      <td>14.054365</td>\n",
       "    </tr>\n",
       "    <tr>\n",
       "      <th>6</th>\n",
       "      <td>1</td>\n",
       "      <td>26</td>\n",
       "      <td>5</td>\n",
       "      <td>20.077559</td>\n",
       "      <td>10.918049</td>\n",
       "      <td>2.996787</td>\n",
       "      <td>2.136865</td>\n",
       "      <td>10.918049</td>\n",
       "    </tr>\n",
       "    <tr>\n",
       "      <th>7</th>\n",
       "      <td>1</td>\n",
       "      <td>30</td>\n",
       "      <td>1</td>\n",
       "      <td>57.401781</td>\n",
       "      <td>15.166514</td>\n",
       "      <td>0.004069</td>\n",
       "      <td>12.518676</td>\n",
       "      <td>15.166514</td>\n",
       "    </tr>\n",
       "    <tr>\n",
       "      <th>8</th>\n",
       "      <td>1</td>\n",
       "      <td>25</td>\n",
       "      <td>3</td>\n",
       "      <td>-10.454002</td>\n",
       "      <td>9.942971</td>\n",
       "      <td>0.788332</td>\n",
       "      <td>1.068758</td>\n",
       "      <td>9.942971</td>\n",
       "    </tr>\n",
       "    <tr>\n",
       "      <th>9</th>\n",
       "      <td>1</td>\n",
       "      <td>25</td>\n",
       "      <td>4</td>\n",
       "      <td>-6.828961</td>\n",
       "      <td>9.942971</td>\n",
       "      <td>1.984751</td>\n",
       "      <td>0.661399</td>\n",
       "      <td>9.942971</td>\n",
       "    </tr>\n",
       "    <tr>\n",
       "      <th>10</th>\n",
       "      <td>1</td>\n",
       "      <td>23</td>\n",
       "      <td>6</td>\n",
       "      <td>-15.693489</td>\n",
       "      <td>8.105611</td>\n",
       "      <td>4.167481</td>\n",
       "      <td>1.782956</td>\n",
       "      <td>8.105611</td>\n",
       "    </tr>\n",
       "    <tr>\n",
       "      <th>11</th>\n",
       "      <td>1</td>\n",
       "      <td>27</td>\n",
       "      <td>2</td>\n",
       "      <td>-51.129282</td>\n",
       "      <td>11.929069</td>\n",
       "      <td>0.315744</td>\n",
       "      <td>10.933500</td>\n",
       "      <td>11.929069</td>\n",
       "    </tr>\n",
       "    <tr>\n",
       "      <th>12</th>\n",
       "      <td>1</td>\n",
       "      <td>22</td>\n",
       "      <td>2</td>\n",
       "      <td>-12.175368</td>\n",
       "      <td>7.245995</td>\n",
       "      <td>0.315744</td>\n",
       "      <td>1.286699</td>\n",
       "      <td>7.245995</td>\n",
       "    </tr>\n",
       "    <tr>\n",
       "      <th>13</th>\n",
       "      <td>1</td>\n",
       "      <td>27</td>\n",
       "      <td>2</td>\n",
       "      <td>39.293701</td>\n",
       "      <td>11.929069</td>\n",
       "      <td>0.315744</td>\n",
       "      <td>6.392218</td>\n",
       "      <td>11.929069</td>\n",
       "    </tr>\n",
       "    <tr>\n",
       "      <th>14</th>\n",
       "      <td>1</td>\n",
       "      <td>25</td>\n",
       "      <td>5</td>\n",
       "      <td>1.989791</td>\n",
       "      <td>9.942971</td>\n",
       "      <td>2.996787</td>\n",
       "      <td>0.062360</td>\n",
       "      <td>9.942971</td>\n",
       "    </tr>\n",
       "  </tbody>\n",
       "</table>\n",
       "</div>"
      ],
      "text/plain": [
       "    #Days  Freq1  Freq2    Measure  Anomaly:Freq1  Anomaly:Freq2  \\\n",
       "0       1     35      4  17.805613      21.184607       1.984751   \n",
       "1       1     33      5 -28.278057      18.689368       2.996787   \n",
       "2       1     25      1 -39.349034       9.942971       0.004069   \n",
       "3       1     32      3  76.205988      17.484917       0.788332   \n",
       "4       1     23      5  14.203496       8.105611       2.996787   \n",
       "5       1     29      6  10.627192      14.054365       4.167481   \n",
       "6       1     26      5  20.077559      10.918049       2.996787   \n",
       "7       1     30      1  57.401781      15.166514       0.004069   \n",
       "8       1     25      3 -10.454002       9.942971       0.788332   \n",
       "9       1     25      4  -6.828961       9.942971       1.984751   \n",
       "10      1     23      6 -15.693489       8.105611       4.167481   \n",
       "11      1     27      2 -51.129282      11.929069       0.315744   \n",
       "12      1     22      2 -12.175368       7.245995       0.315744   \n",
       "13      1     27      2  39.293701      11.929069       0.315744   \n",
       "14      1     25      5   1.989791       9.942971       2.996787   \n",
       "\n",
       "    Anomaly:Measure  Anomaly Score  \n",
       "0          1.779511      21.184607  \n",
       "1          4.145703      18.689368  \n",
       "2          7.022129       9.942971  \n",
       "3         21.139095      21.139095  \n",
       "4          1.272704       8.105611  \n",
       "5          0.839761      14.054365  \n",
       "6          2.136865      10.918049  \n",
       "7         12.518676      15.166514  \n",
       "8          1.068758       9.942971  \n",
       "9          0.661399       9.942971  \n",
       "10         1.782956       8.105611  \n",
       "11        10.933500      11.929069  \n",
       "12         1.286699       7.245995  \n",
       "13         6.392218      11.929069  \n",
       "14         0.062360       9.942971  "
      ]
     },
     "execution_count": 10,
     "metadata": {},
     "output_type": "execute_result"
    }
   ],
   "source": [
    "df= DataFrame(data[-15:], columns=['#Days', 'Freq1','Freq2','Measure'])\n",
    "df['Anomaly:Freq1'] = [detail[1][0] for detail in score_details[-15:]]   # Anomaly Score of Freq1\n",
    "df['Anomaly:Freq2'] = [detail[1][1] for detail in score_details[-15:]]   # Anomaly Score of Freq2\n",
    "df['Anomaly:Measure'] = [detail[1][2] for detail in score_details[-15:]] # Anomaly Score of Measure\n",
    "df['Anomaly Score'] = [detail[0] for detail in score_details[-15:]]      # Combined Anomaly Score\n",
    "df"
   ]
  },
  {
   "cell_type": "markdown",
   "metadata": {},
   "source": [
    "Above, the last column corresponds to the same anomaly score as before, where we can se that it corresponds to the maximum of the individual anomaly score to the left, thus, it is the result of the combination rule specified to the anomaly detector."
   ]
  },
  {
   "cell_type": "code",
   "execution_count": null,
   "metadata": {
    "collapsed": true
   },
   "outputs": [],
   "source": []
  }
 ],
 "metadata": {
  "kernelspec": {
   "display_name": "Python 2",
   "language": "python",
   "name": "python2"
  },
  "language_info": {
   "codemirror_mode": {
    "name": "ipython",
    "version": 2
   },
   "file_extension": ".py",
   "mimetype": "text/x-python",
   "name": "python",
   "nbconvert_exporter": "python",
   "pygments_lexer": "ipython2",
   "version": "2.7.11"
  },
  "widgets": {
   "state": {},
   "version": "1.1.1"
  }
 },
 "nbformat": 4,
 "nbformat_minor": 0
}
