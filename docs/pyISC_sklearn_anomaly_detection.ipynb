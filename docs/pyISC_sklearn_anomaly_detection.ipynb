{
 "cells": [
  {
   "cell_type": "markdown",
   "metadata": {},
   "source": [
    "# Anomaly Detection Overview"
   ]
  },
  {
   "cell_type": "markdown",
   "metadata": {},
   "source": [
    "An anomaly detector for computing anomaly scores is constructed by providing a set of component distributions that defines the models used by the anomaly detector.  \n",
    "Then, in order to train the anomaly detector, the <b>fit</b> method can be called with some training data, and then compute the anomaly scores with the <b>anomaly_score</b> method.\n",
    "Below, we show how to create and train a bivariate Gaussian distribution and how to compute anomaly scores."
   ]
  },
  {
   "cell_type": "code",
   "execution_count": 10,
   "metadata": {
    "collapsed": false
   },
   "outputs": [
    {
     "data": {
      "text/plain": [
       "array([ 0.09595115,  1.07745081,  0.0999642 ,  0.05291047,  0.67480948,\n",
       "        0.77318014])"
      ]
     },
     "execution_count": 10,
     "metadata": {},
     "output_type": "execute_result"
    }
   ],
   "source": [
    "import numpy as np\n",
    "import pyisc\n",
    "\n",
    "# Get some data:\n",
    "X = np.array([[20, 4], [1200, 130], [12, 8], [27, 8], [-9, 13], [2, -6]])\n",
    "\n",
    "# Create an anomaly detector where the numbers are column indices of the data:\n",
    "anomaly_detector = pyisc.AnomalyDetector(\n",
    "    pyisc.P_Gaussian([0,1])\n",
    ")\n",
    "\n",
    "# The anomaly detector is trained\n",
    "anomaly_detector.fit(X) \n",
    "\n",
    "# Then, we can compute the anomaly scores for the data:\n",
    "anomaly_detector.anomaly_score(X)\n",
    "\n",
    "# The result is anomaly scores (with two decimal precision):\n",
    "#array([ 0.10,  1.08,  0.10,  0.05,  0.67, 0.77])"
   ]
  },
  {
   "cell_type": "markdown",
   "metadata": {},
   "source": [
    "By comparing the number pairs in the list, the second elements easily stands out as the ``most anomalous\". \n",
    "Similarly, we can create a anomaly detector with the Gamma or Poisson distributions where the numbers are the column indices into the input data:\n"
   ]
  },
  {
   "cell_type": "code",
   "execution_count": 11,
   "metadata": {
    "collapsed": false
   },
   "outputs": [],
   "source": [
    "pyisc.P_Gamma(frequency_column=0,period_column=1)\n",
    "\n",
    "pyisc.P_Poisson(frequency_column=0,period_column=1);"
   ]
  },
  {
   "cell_type": "markdown",
   "metadata": {},
   "source": [
    "In case we have more than one known class of data points, it is also possible to train the detector to make a separate model for each class. \n",
    "In this case, if $y$ is an array with two or more class labels, the anomaly detector can still be similarly trained and likewise compute the anomaly scores:"
   ]
  },
  {
   "cell_type": "code",
   "execution_count": 28,
   "metadata": {
    "collapsed": false
   },
   "outputs": [
    {
     "data": {
      "text/plain": [
       "array([ 0.09595115,  1.07745081,  0.0999642 ,  0.05291047,  0.67480948,\n",
       "        0.77318014])"
      ]
     },
     "execution_count": 28,
     "metadata": {},
     "output_type": "execute_result"
    }
   ],
   "source": [
    "#Create classes (only one class)\n",
    "y = np.zeros(len(X))\n",
    "\n",
    "#Fit classes\n",
    "anomaly_detector.fit(X,y)\n",
    "\n",
    "anomaly_detector.anomaly_score(X,y)"
   ]
  },
  {
   "cell_type": "code",
   "execution_count": null,
   "metadata": {
    "collapsed": true
   },
   "outputs": [],
   "source": []
  }
 ],
 "metadata": {
  "kernelspec": {
   "display_name": "Python 2",
   "language": "python",
   "name": "python2"
  },
  "language_info": {
   "codemirror_mode": {
    "name": "ipython",
    "version": 2
   },
   "file_extension": ".py",
   "mimetype": "text/x-python",
   "name": "python",
   "nbconvert_exporter": "python",
   "pygments_lexer": "ipython2",
   "version": "2.7.11"
  },
  "widgets": {
   "state": {},
   "version": "1.1.1"
  }
 },
 "nbformat": 4,
 "nbformat_minor": 0
}
